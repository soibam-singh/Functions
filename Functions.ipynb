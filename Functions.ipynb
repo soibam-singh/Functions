{
  "nbformat": 4,
  "nbformat_minor": 0,
  "metadata": {
    "colab": {
      "provenance": []
    },
    "kernelspec": {
      "name": "python3",
      "display_name": "Python 3"
    },
    "language_info": {
      "name": "python"
    }
  },
  "cells": [
    {
      "cell_type": "markdown",
      "source": [
        "1. What is the difference between a function and a method in Python?\n",
        "   - Functions\n",
        "      - Standalone blocks of code: Functions exist independently of any class or object.\n",
        "      - Called by name: You can call a function directly by its name, passing any necessary arguments.\n",
        "      - e.g.\n",
        "      def greet(name):\n",
        "          return f\"Hello, {name}!\"\n",
        "      greet(\"Alice\")\n",
        "   - Methods\n",
        "     - Associated with classes or objects: Methods are defined within a class and are called on instances of that class.\n",
        "     - Called using dot notation: You call a method using the dot (.) operator on an object, followed by the method name and any arguments.  \n",
        "     - e.g.\n",
        "       class Dog:\n",
        "       def bark(self):\n",
        "           print(\"Woof!\")\n",
        "\n",
        "       my_dog = Dog()\n",
        "       my_dog.bark()  \n",
        "\n",
        "2. Explain the concept of function arguments and parameters in Python.\n",
        "   - Parameters:\n",
        "     - Parameters are the variables listed in the function definition.\n",
        "       They act as placeholders for the values that will be passed to the function when it is called.\n",
        "       These parameters are specified inside the parentheses when defining a function.\n",
        "     - e.g.\n",
        "       def greet(name):  # 'name' is a parameter\n",
        "           return f\"Hello, {name}!\"\n",
        "\n",
        "  - Arguments:\n",
        "    - Arguments are the actual values that are passed to a function when\n",
        "      it is called. The arguments correspond to the parameters defined in the function.\n",
        "      These are the values passed to the function when invoking it.   \n",
        "    - e.g\n",
        "      greet(\"Alice\")  # 'Alice' is an argument\n",
        "\n",
        "3. What are the different ways to define and call a function in Python?\n",
        "   - 1. Standard Function: Defined with def, called by name with\n",
        "        parameters.\n",
        "     2. Function with Default Arguments: Parameters can have default\n",
        "        values.\n",
        "     3. Function with Variable-Length Arguments (*args): Allows multiple\n",
        "        positional arguments.\n",
        "     4. Function with Keyword Arguments (**kwargs): Accepts arbitrary\n",
        "        keyword arguments.\n",
        "     5. Lambda Function: Anonymous function defined using lambda.\n",
        "     6. Function as an Argument: Functions can be passed as arguments.\n",
        "     7. Recursive Function: A function that calls itself.\n",
        "     8. Function Returning Multiple Values: Return multiple values as a\n",
        "        tuple.\n",
        "     9. Methods in Classes: Functions defined within a class to operate on\n",
        "        objects.\n",
        "     10. Combining *args and **kwargs: Function accepts both positional and keyword arguments.\n",
        "\n",
        "4. What is the purpose of the `return` statement in a Python function?\n",
        "   - The return statement in a Python function is used to exit the\n",
        "     function and send back a result to the caller. It allows a function to provide a value that can be used elsewhere in your code, making the function's output available for further processing.\n",
        "   - e.g.\n",
        "     def add(a, b):\n",
        "         return a + b\n",
        "     result = add(5, 3)\n",
        "     print(result)  # Output: 8\n",
        "\n",
        "5. What are iterators in Python and how do they differ from iterables?\n",
        "   - An iterable is any Python object capable of returning its members one\n",
        "     at a time, permitting it to be iterated over in a for loop(e.g., a list, tuple, or string).\n",
        "     e.g.\n",
        "     my_list = [1, 2, 3]\n",
        "     for item in my_list:  # 'my_list' is an iterable\n",
        "         print(item)\n",
        "   - An iterator is an object that represents a stream of data. It is used\n",
        "     to iterate over an iterable. An iterator keeps track of the state during iteration and knows how to access the next item in the sequence. To be an iterator, an object must implement two methods:\n",
        "\n",
        "     __iter__(): This method returns the iterator object itself.\n",
        "     __next__(): This method returns the next item from the iterable. When there are no more items to return, it raises the StopIteration exception.\n",
        "     e.g.\n",
        "     my_list = [1, 2, 3]\n",
        "     my_iterator = iter(my_list)  # Convert iterable to iterator\n",
        "\n",
        "     print(next(my_iterator))  # Output: 1\n",
        "     print(next(my_iterator))  # Output: 2\n",
        "     print(next(my_iterator))  # Output: 3\n",
        "     # The next call will raise StopIteration\n",
        "     print(next(my_iterator))  # Raises StopIteration\n",
        "\n",
        "6. Explain the concept of generators in Python and how they are defined.\n",
        "   - In Python, generators are a special type of iterable that allow you\n",
        "     to iterate over a sequence of values lazily, meaning they generate values on the fly, one at a time, rather than storing the entire sequence in memory. This makes generators particularly useful for working with large datasets or streams of data, where you don't want to load everything into memory at once.\n",
        "   - Defining a Generator:\n",
        "     A generator is defined using a function with the yield keyword, which is used to return a value from the function and pause its state. The next time the generator is called, it resumes from where it left off.\n",
        "     e.g.\n",
        "     def count_up_to(n):\n",
        "         count = 1\n",
        "         while count <= n:\n",
        "             yield count  # Yielding a value and pausing\n",
        "             count += 1\n",
        "\n",
        "7. What are the advantages of using generators over regular functions?\n",
        "   - Using generators over regular functions provides several key\n",
        "     advantages, especially when dealing with large datasets, streams of data, or when memory efficiency is a concern.\n",
        "\n",
        "8. What is a lambda function in Python and when is it typically used?\n",
        "   - A lambda function in Python is a small, anonymous function defined\n",
        "     using the lambda keyword. It allows you to define a function in a concise way, often for short-term use. Unlike regular functions, lambda functions are typically used for one-liner functions where you don't need to give the function a name.\n",
        "   - Syntax:\n",
        "     lambda arguments: expression\n",
        "     e.g.\n",
        "     # A simple lambda function that adds two numbers\n",
        "     add = lambda x, y: x + y\n",
        "     # Using the lambda function\n",
        "     print(add(3, 5))  # Output: 8\n",
        "\n",
        "   - Lambda functions are most commonly used in situations where you need\n",
        "     a function temporarily or in a concise form. Some common use cases include:\n",
        "     - 1. Passing a Function as an Argument\n",
        "       2. Using with map()\n",
        "       3. Using with filter()\n",
        "       4. Using with reduce()\n",
        "\n",
        "9. Explain the purpose and usage of the `map()` function in Python.\n",
        "   - The main purpose of the map() function is to apply a function to\n",
        "     every item in an iterable (or multiple iterables) and return an iterator that produces the results.\n",
        "   - map(function, iterable, ...)\n",
        "   - e.g.\n",
        "     numbers = [1, 2, 3, 4, 5]\n",
        "\n",
        "     # Define a function that squares a number\n",
        "     def square(x):\n",
        "         return x ** 2\n",
        "\n",
        "     # Apply the function using map\n",
        "     squared_numbers = map(square, numbers)\n",
        "\n",
        "     # Convert the map object to a list and print the result\n",
        "     print(list(squared_numbers))  # Output: [1, 4, 9, 16, 25]\n",
        "\n",
        "   - Basic Usage:\n",
        "     1: Applying a function to each element in a list\n",
        "     2: Using lambda with map()\n",
        "     3: Using map() with multiple iterables\n",
        "     4: Converting data types with map()\n",
        "     5: Using map() with more complex functions\n",
        "\n",
        "11. Using pen & Paper write the internal mechanism for sum operation  \n",
        "    using  reduce function on this given list:[47,11,42,13];\n",
        "    - The reduce() function from the functools module applies a binary\n",
        "      function (a function that takes two arguments) cumulatively to the items of an iterable (such as a list), from left to right, reducing the iterable to a single value.\n",
        "    - Visualization of the Internal Process:\n",
        "\n",
        "reduce(lambda x, y: x + y, [47, 11, 42, 13])\n",
        "  |\n",
        "  v\n",
        "Initial: [47, 11, 42, 13]\n",
        "\n",
        "Step 1: (47 + 11) = 58\n",
        "  |\n",
        "  v\n",
        "Intermediate: [58, 42, 13]\n",
        "\n",
        "Step 2: (58 + 42) = 100\n",
        "  |\n",
        "  v\n",
        "Intermediate: [100, 13]\n",
        "\n",
        "Step 3: (100 + 13) = 113\n",
        "  |\n",
        "  v\n",
        "Final result: 113\n",
        "\n",
        "\n",
        "\n",
        "\n",
        "\n",
        "\n",
        "\n",
        "\n",
        "\n",
        "\n",
        "\n",
        "\n",
        "\n",
        "\n"
      ],
      "metadata": {
        "id": "RO5MsZuoVGUy"
      }
    },
    {
      "cell_type": "code",
      "source": [
        "# Practical Questions:\n",
        "# 1. Write a Python function that takes a list of numbers as input and returns the sum of all even numbers in\n",
        "# the list.\n",
        "\n",
        "def sum_of_even_numbers(numbers):\n",
        "    # Initialize a variable to store the sum of even numbers\n",
        "    total_sum = 0\n",
        "\n",
        "    # Iterate through the list of numbers\n",
        "    for num in numbers:\n",
        "        # Check if the number is even\n",
        "        if num % 2 == 0:\n",
        "            total_sum += num  # Add the even number to the sum\n",
        "\n",
        "    # Return the total sum of even numbers\n",
        "    return total_sum\n",
        "\n",
        "numbers = [47, 11, 42, 13, 6, 18]\n",
        "\n",
        "# Call the function and print the result\n",
        "result = sum_of_even_numbers(numbers)\n",
        "print(result)  # Output: 66 (42 + 6 + 18)\n"
      ],
      "metadata": {
        "colab": {
          "base_uri": "https://localhost:8080/"
        },
        "id": "5cWUwwaNgHGy",
        "outputId": "7216f738-bc5b-467a-ba81-108f86a39abe"
      },
      "execution_count": null,
      "outputs": [
        {
          "output_type": "stream",
          "name": "stdout",
          "text": [
            "66\n"
          ]
        }
      ]
    },
    {
      "cell_type": "code",
      "source": [
        "# 2. Create a Python function that accepts a string and returns the reverse of that string.\n",
        "\n",
        "def reverse_string(input_string):\n",
        "    # Return the reverse of the input string using slicing\n",
        "    return input_string[::-1]\n",
        "\n",
        "# Example string\n",
        "input_string = \"hello\"\n",
        "\n",
        "# Call the function and print the result\n",
        "reversed_string = reverse_string(input_string)\n",
        "print(reversed_string)  # Output: \"olleh\"\n"
      ],
      "metadata": {
        "colab": {
          "base_uri": "https://localhost:8080/"
        },
        "id": "eLZDhKHdgtX1",
        "outputId": "c2a6eda1-476c-4146-c16e-a8c89d7440bc"
      },
      "execution_count": null,
      "outputs": [
        {
          "output_type": "stream",
          "name": "stdout",
          "text": [
            "olleh\n"
          ]
        }
      ]
    },
    {
      "cell_type": "code",
      "source": [
        "# 3. Implement a Python function that takes a list of integers and returns a new list containing the squares of\n",
        "# each number.\n",
        "\n",
        "def square_numbers(numbers):\n",
        "    # Create a new list to store the squares\n",
        "    squared_list = []\n",
        "\n",
        "    # Iterate through the list of numbers\n",
        "    for num in numbers:\n",
        "        # Append the square of each number to the new list\n",
        "        squared_list.append(num ** 2)\n",
        "\n",
        "    # Return the new list containing the squares\n",
        "    return squared_list\n",
        "\n",
        "numbers = [1, 2, 3, 4, 5]\n",
        "# Call the function and print the result\n",
        "squared_numbers_list = square_numbers(numbers)\n",
        "print(squared_numbers_list)  # Output: [1, 4, 9, 16, 25]\n"
      ],
      "metadata": {
        "colab": {
          "base_uri": "https://localhost:8080/"
        },
        "id": "y7iAVhPmhMYT",
        "outputId": "7d69b4db-0695-405a-c252-0152a7c7e45f"
      },
      "execution_count": null,
      "outputs": [
        {
          "output_type": "stream",
          "name": "stdout",
          "text": [
            "[1, 4, 9, 16, 25]\n"
          ]
        }
      ]
    },
    {
      "cell_type": "code",
      "source": [
        "#4. Write a Python function that checks if a given number is prime or not from 1 to 200.\n",
        "\n",
        "import math\n",
        "\n",
        "def is_prime(number):\n",
        "    # Edge case for numbers less than 2\n",
        "    if number <= 1:\n",
        "        return False\n",
        "\n",
        "    # Check divisibility from 2 to the square root of the number\n",
        "    for i in range(2, int(math.sqrt(number)) + 1):\n",
        "        if number % i == 0:\n",
        "            return False  # Number is divisible by i, so it's not prime\n",
        "\n",
        "    return True  # If no divisors were found, the number is prime\n",
        "\n",
        "# Test the function for numbers from 1 to 200\n",
        "for num in range(1, 201):\n",
        "    if is_prime(num):\n",
        "        print(num)"
      ],
      "metadata": {
        "colab": {
          "base_uri": "https://localhost:8080/"
        },
        "id": "YHB1jv8Shy7v",
        "outputId": "2fc20f10-bb74-4714-d70a-698096dbd3b9"
      },
      "execution_count": null,
      "outputs": [
        {
          "output_type": "stream",
          "name": "stdout",
          "text": [
            "2\n",
            "3\n",
            "5\n",
            "7\n",
            "11\n",
            "13\n",
            "17\n",
            "19\n",
            "23\n",
            "29\n",
            "31\n",
            "37\n",
            "41\n",
            "43\n",
            "47\n",
            "53\n",
            "59\n",
            "61\n",
            "67\n",
            "71\n",
            "73\n",
            "79\n",
            "83\n",
            "89\n",
            "97\n",
            "101\n",
            "103\n",
            "107\n",
            "109\n",
            "113\n",
            "127\n",
            "131\n",
            "137\n",
            "139\n",
            "149\n",
            "151\n",
            "157\n",
            "163\n",
            "167\n",
            "173\n",
            "179\n",
            "181\n",
            "191\n",
            "193\n",
            "197\n",
            "199\n"
          ]
        }
      ]
    },
    {
      "cell_type": "code",
      "source": [
        "#5. Create an iterator class in Python that generates the Fibonacci sequence up to a specified number of\n",
        "#terms.\n",
        "class FibonacciIterator:\n",
        "    def __init__(self, terms):\n",
        "        # Initialize the number of terms and the starting values of Fibonacci\n",
        "        self.terms = terms  # Number of terms in the sequence\n",
        "        self.count = 0  # Counter for the number of terms generated\n",
        "        self.a, self.b = 0, 1  # Starting values for the Fibonacci sequence\n",
        "\n",
        "    def __iter__(self):\n",
        "        # The iterator object itself\n",
        "        return self\n",
        "\n",
        "    def __next__(self):\n",
        "        # If the required number of terms has been generated, stop the iteration\n",
        "        if self.count >= self.terms:\n",
        "            raise StopIteration\n",
        "\n",
        "        # Generate the next Fibonacci number\n",
        "        current = self.a\n",
        "        self.a, self.b = self.b, self.a + self.b  # Update the next Fibonacci numbers\n",
        "\n",
        "        # Increment the counter\n",
        "        self.count += 1\n",
        "\n",
        "        return current\n",
        "\n",
        "# Create an iterator for the first 10 Fibonacci numbers\n",
        "fib_iterator = FibonacciIterator(10)\n",
        "\n",
        "# Using the iterator to print the Fibonacci sequence\n",
        "for number in fib_iterator:\n",
        "    print(number)\n"
      ],
      "metadata": {
        "colab": {
          "base_uri": "https://localhost:8080/"
        },
        "id": "Jwn5XyociCBh",
        "outputId": "7bb18762-ce4c-42ca-9dbf-1833d40ea67a"
      },
      "execution_count": null,
      "outputs": [
        {
          "output_type": "stream",
          "name": "stdout",
          "text": [
            "0\n",
            "1\n",
            "1\n",
            "2\n",
            "3\n",
            "5\n",
            "8\n",
            "13\n",
            "21\n",
            "34\n"
          ]
        }
      ]
    },
    {
      "cell_type": "code",
      "source": [
        "# 6. Write a generator function in Python that yields the powers of 2 up to a given exponent.\n",
        "\n",
        "def powers_of_two(exponent):\n",
        "    # Iterate from 0 to the given exponent\n",
        "    for i in range(exponent + 1):\n",
        "        yield 2 ** i  # Yield the power of 2 for the current exponent\n",
        "\n",
        "# Generate powers of 2 up to the exponent 5\n",
        "for power in powers_of_two(5):\n",
        "    print(power)\n"
      ],
      "metadata": {
        "colab": {
          "base_uri": "https://localhost:8080/"
        },
        "id": "vCC1IKWKieOr",
        "outputId": "e9d59796-2244-46f1-be11-b94b5f36bd65"
      },
      "execution_count": null,
      "outputs": [
        {
          "output_type": "stream",
          "name": "stdout",
          "text": [
            "1\n",
            "2\n",
            "4\n",
            "8\n",
            "16\n",
            "32\n"
          ]
        }
      ]
    },
    {
      "cell_type": "code",
      "source": [
        "# 7. Implement a generator function that reads a file line by line and yields each line as a string.\n",
        "def read_file_lines(filename):\n",
        "  \"\"\"\n",
        "  Reads a file line by line and yields each line as a string.\n",
        "\n",
        "  Args:\n",
        "    filename: The name of the file to read.\n",
        "\n",
        "  Yields:\n",
        "    Each line in the file as a string.\n",
        "  \"\"\"\n",
        "  with open(filename, 'r') as f:\n",
        "    for line in f:\n",
        "      yield line.strip()\n",
        "\n",
        "# Example usage:\n",
        "for line in read_file_lines(\"Functions.ipynb\"):\n",
        "  print(line)"
      ],
      "metadata": {
        "id": "ez-lSvXInaLo"
      },
      "execution_count": null,
      "outputs": []
    },
    {
      "cell_type": "code",
      "source": [
        "#8. Use a lambda function in Python to sort a list of tuples based on the second element of each tuple.\n",
        "# Sample list of tuples\n",
        "data = [(2, 5), (1, 3), (4, 1), (3, 2)]\n",
        "\n",
        "# Sort the list of tuples based on the second element using lambda\n",
        "sorted_data = sorted(data, key=lambda x: x[1])\n",
        "\n",
        "# Print the sorted list\n",
        "print(sorted_data)  # Output: [(4, 1), (3, 2), (1, 3), (2, 5)]"
      ],
      "metadata": {
        "colab": {
          "base_uri": "https://localhost:8080/"
        },
        "id": "MLX26jWHncGP",
        "outputId": "eee580be-cc0b-4250-d591-8b73e92e8744"
      },
      "execution_count": 11,
      "outputs": [
        {
          "output_type": "stream",
          "name": "stdout",
          "text": [
            "[(4, 1), (3, 2), (1, 3), (2, 5)]\n"
          ]
        }
      ]
    },
    {
      "cell_type": "code",
      "source": [
        "# 9. Write a Python program that uses `map()` to convert a list of temperatures from Celsius to Fahrenheit.\n",
        "\n",
        "# List of temperatures in Celsius\n",
        "celsius_temps = [0, 20, 30, 40, 100]\n",
        "\n",
        "# Function to convert Celsius to Fahrenheit\n",
        "def celsius_to_fahrenheit(celsius):\n",
        "    return (9/5) * celsius + 32\n",
        "\n",
        "# Using map() to apply the function to the list of temperatures\n",
        "fahrenheit_temps = list(map(celsius_to_fahrenheit, celsius_temps))\n",
        "\n",
        "# Print the result\n",
        "print(fahrenheit_temps)\n"
      ],
      "metadata": {
        "colab": {
          "base_uri": "https://localhost:8080/"
        },
        "id": "ZCTr51ORoBRA",
        "outputId": "66c7b153-d018-48bb-e13b-077893d63611"
      },
      "execution_count": 12,
      "outputs": [
        {
          "output_type": "stream",
          "name": "stdout",
          "text": [
            "[32.0, 68.0, 86.0, 104.0, 212.0]\n"
          ]
        }
      ]
    },
    {
      "cell_type": "code",
      "source": [
        "# 10. Create a Python program that uses `filter()` to remove all the vowels from a given string.\n",
        "\n",
        "# Function to check if a character is a vowel\n",
        "def is_not_vowel(char):\n",
        "    return char.lower() not in 'aeiou'\n",
        "\n",
        "# Given string\n",
        "input_string = \"Hello, how are you?\"\n",
        "\n",
        "# Using filter() to remove vowels from the string\n",
        "filtered_string = ''.join(filter(is_not_vowel, input_string))\n",
        "\n",
        "# Print the result\n",
        "print(filtered_string)\n"
      ],
      "metadata": {
        "colab": {
          "base_uri": "https://localhost:8080/"
        },
        "id": "GbdNK6MGoKw5",
        "outputId": "dd78bf8f-618c-4d86-8972-f1913941540f"
      },
      "execution_count": 13,
      "outputs": [
        {
          "output_type": "stream",
          "name": "stdout",
          "text": [
            "Hll, hw r y?\n"
          ]
        }
      ]
    },
    {
      "cell_type": "code",
      "source": [
        "#11) Imagine an accounting routine used in a book shop. It works on a list with sublists, which look like this:\n",
        "#Write a Python program, which returns a list with 2-tuples. Each tuple consists of the order number and the\n",
        "#product of the price per item and the quantity. The product should be increased by 10,- € if the value of the\n",
        "#order is smaller than 100,00 €.\n",
        "\n",
        "#Write a Python program using lambda and map.\n",
        "\n",
        "def process_orders(orders):\n",
        "    \"\"\"\n",
        "    Processes a list of orders and returns a list of tuples\n",
        "    containing order number and adjusted total price.\n",
        "\n",
        "    Args:\n",
        "        orders: A list of lists, where each sublist represents an order\n",
        "                with order number, book title, quantity, and price per item.\n",
        "\n",
        "    Returns:\n",
        "        A list of tuples, where each tuple contains the order number\n",
        "        and the adjusted total price.\n",
        "    \"\"\"\n",
        "\n",
        "    def calculate_total(order):\n",
        "        order_number = order[0]\n",
        "        quantity = order[2]\n",
        "        price_per_item = order[3]\n",
        "        total_price = quantity * price_per_item\n",
        "\n",
        "        if total_price < 100:\n",
        "            total_price += 10\n",
        "\n",
        "        return (order_number, total_price)\n",
        "\n",
        "    return list(map(calculate_total, orders))\n",
        "\n",
        "# Sample order data\n",
        "orders = [\n",
        "    [34587, \"Learning Python, Mark Lutz\", 4, 40.95],\n",
        "    [98762, \"Programming Python, Mark Lutz\", 5, 56.80],\n",
        "    [77226, \"Head First Python, Paul Barry\", 3, 32.95],\n",
        "    [88112, \"Einführung in Python3, Bernd Klein\", 3, 24.99]\n",
        "]\n",
        "\n",
        "# Process the orders and print the results\n",
        "processed_orders = process_orders(orders)\n",
        "print(processed_orders)"
      ],
      "metadata": {
        "colab": {
          "base_uri": "https://localhost:8080/"
        },
        "id": "X_63IBDzoYIx",
        "outputId": "ce359dd6-cf1b-4831-adb0-74d6fd0acf23"
      },
      "execution_count": 14,
      "outputs": [
        {
          "output_type": "stream",
          "name": "stdout",
          "text": [
            "[(34587, 163.8), (98762, 284.0), (77226, 108.85000000000001), (88112, 84.97)]\n"
          ]
        }
      ]
    }
  ]
}